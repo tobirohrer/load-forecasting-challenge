{
 "cells": [
  {
   "cell_type": "code",
   "execution_count": null,
   "id": "74ad4634-ed1e-43a0-8e8a-ff1f4088d858",
   "metadata": {},
   "outputs": [],
   "source": [
    "import pandas as pd\n",
    "from prepare_actuals import custom_date_parser\n",
    "import numpy as np"
   ]
  },
  {
   "cell_type": "code",
   "execution_count": null,
   "id": "a9800009-5f6f-450a-9202-ed24fac4381a",
   "metadata": {},
   "outputs": [],
   "source": [
    "load_profiles_2016 = pd.read_csv('LoadProfile_20IPs_2016.csv', skiprows=1, delimiter=\";\", index_col=0, date_parser=custom_date_parser)\n",
    "actuals = pd.read_csv('2016_actuals.csv', index_col=0, parse_dates=True)\n",
    "\n",
    "forecasts = actuals.copy()\n",
    "forecasts.loc[:, forecasts.columns != 'dataset_id'] = 0"
   ]
  },
  {
   "cell_type": "code",
   "execution_count": null,
   "id": "c5580251-2402-4e9d-ad01-0b5d80586921",
   "metadata": {},
   "outputs": [],
   "source": [
    "def the_fancy_forecaster(time_index_to_forecast, train_data):\n",
    "    # This forecaster predicts the value which were observed 24h ago\n",
    "    return train_data.loc[time_index_to_forecast - pd.Timedelta(days=1)].values"
   ]
  },
  {
   "cell_type": "code",
   "execution_count": null,
   "id": "caa01beb-5c0a-4e6d-9fcd-d7109ddf9ed1",
   "metadata": {},
   "outputs": [],
   "source": [
    "TRAIN_DATA_LENGTH = pd.Timedelta(hours=24*7)\n",
    "\n",
    "for dataset_id in actuals['dataset_id'].unique():\n",
    "    actuals_i = actuals[actuals['dataset_id'] == dataset_id]\n",
    "    for load in [x for x in actuals_i.columns if x != 'dataset_id']:\n",
    "        actuals_i_j = actuals_i[load]\n",
    "        start_of_test = actuals_i_j.index[0]\n",
    "        train_data_i_j = load_profiles_2016[load][start_of_test - TRAIN_DATA_LENGTH:start_of_test - pd.Timedelta(minutes=15)]\n",
    "        forecast = the_fancy_forecaster(actuals_i_j.index, train_data_i_j)\n",
    "        forecasts.loc[actuals_i_j.index, load] = forecast"
   ]
  },
  {
   "cell_type": "code",
   "execution_count": null,
   "id": "e86d892a-2d1c-41b6-9dc2-f9ee3c92ba64",
   "metadata": {},
   "outputs": [],
   "source": [
    "def calculate_rmse(actual, predicted):\n",
    "    return np.sqrt(((actual - predicted) ** 2).mean())\n",
    "\n",
    "# Calculate RMSE for each pair of actual and predicted columns\n",
    "rmse_results = {}\n",
    "\n",
    "for col in [x for x in forecasts.columns if x != 'dataset_id']:\n",
    "    forecast = forecasts[col]\n",
    "    actual = actuals[col]\n",
    "    rmse_results[col] = calculate_rmse(actual, forecast)\n",
    "\n",
    "# Output RMSE for each column pair\n",
    "print(rmse_results)"
   ]
  }
 ],
 "metadata": {
  "kernelspec": {
   "display_name": "ai_grid",
   "language": "python",
   "name": "ai_grid"
  },
  "language_info": {
   "codemirror_mode": {
    "name": "ipython",
    "version": 3
   },
   "file_extension": ".py",
   "mimetype": "text/x-python",
   "name": "python",
   "nbconvert_exporter": "python",
   "pygments_lexer": "ipython3",
   "version": "3.12.4"
  }
 },
 "nbformat": 4,
 "nbformat_minor": 5
}
