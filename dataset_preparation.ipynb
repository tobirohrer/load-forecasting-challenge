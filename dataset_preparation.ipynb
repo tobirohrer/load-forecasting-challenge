{
 "cells": [
  {
   "cell_type": "code",
   "execution_count": null,
   "id": "e93cf7c3-60de-4795-9b5c-cda928b2fb0e",
   "metadata": {},
   "outputs": [],
   "source": [
    "import pandas as pd\n",
    "import os\n",
    "import numpy as np"
   ]
  },
  {
   "cell_type": "code",
   "execution_count": null,
   "id": "5c4b4ff2-0a89-45b6-9c34-22d9995e9c4c",
   "metadata": {},
   "outputs": [],
   "source": [
    "# Download Raw Data\n",
    "!wget https://zenodo.org/records/3899018/files/LoadProfile_20IPs_2016.csv -q\n",
    "!wget https://zenodo.org/records/3899018/files/LoadProfile_30IPs_2017.csv -q"
   ]
  },
  {
   "cell_type": "code",
   "execution_count": null,
   "id": "ec589f45-d4b7-4d39-93a3-14243b152cec",
   "metadata": {},
   "outputs": [],
   "source": [
    "def custom_date_parser(date_str):\n",
    "    cleaned_date_str = date_str.replace(\" b\", \"\").strip()\n",
    "    return pd.to_datetime(cleaned_date_str, format='%d.%m.%Y %H:%M:%S')\n",
    "\n",
    "def create_perfect_submission(start_time, test_loads):\n",
    "    new_df = pd.DataFrame()\n",
    "    dataset_id = 0\n",
    "    \n",
    "    while start_time <= test_loads.index[-1] - pd.Timedelta(hours=25):\n",
    "        end_period = start_time + pd.Timedelta(hours=12) - pd.Timedelta(minutes=15)\n",
    "        subset = test_loads[start_time:end_period].copy()\n",
    "        subset['dataset_id'] = dataset_id\n",
    "        new_df = pd.concat([new_df, subset])\n",
    "        dataset_id += 1\n",
    "        start_time += pd.Timedelta(hours=25)\n",
    "    return new_df\n",
    "\n",
    "LOAD_FILE_2016 = 'LoadProfile_20IPs_2016.csv'\n",
    "START_TIME_STAMP_2016 = pd.Timestamp('2016-09-01 00:00:00')\n",
    "\n",
    "load_profiles = pd.read_csv(LOAD_FILE_2016, skiprows=1, delimiter=\";\", index_col=0, date_parser=custom_date_parser)\n",
    "test_loads = load_profiles[load_profiles.columns[13:]]\n",
    "test_loads = test_loads[START_TIME_STAMP_2016:]\n",
    "test_loads = create_perfect_submission(START_TIME_STAMP_2016, test_loads)\n",
    "test_loads.to_csv('2016_perfect_solution_data.csv')\n",
    "\n",
    "LOAD_FILE_2017 = 'LoadProfile_30IPs_2017.csv'\n",
    "START_TIME_STAMP_2017 = pd.Timestamp('2017-09-01 00:00:00')\n",
    "\n",
    "load_profiles = pd.read_csv(LOAD_FILE_2017, skiprows=1, delimiter=\";\", index_col=0, date_parser=custom_date_parser)\n",
    "load_profiles = load_profiles.dropna()\n",
    "test_loads = load_profiles[load_profiles.columns[22:]]\n",
    "test_loads = test_loads[START_TIME_STAMP_2017:]\n",
    "test_loads = create_perfect_submission(START_TIME_STAMP_2017, test_loads)\n",
    "test_loads.to_csv('2017_solution_data.csv')"
   ]
  }
 ],
 "metadata": {
  "kernelspec": {
   "display_name": "ai_grid",
   "language": "python",
   "name": "ai_grid"
  },
  "language_info": {
   "codemirror_mode": {
    "name": "ipython",
    "version": 3
   },
   "file_extension": ".py",
   "mimetype": "text/x-python",
   "name": "python",
   "nbconvert_exporter": "python",
   "pygments_lexer": "ipython3",
   "version": "3.12.4"
  }
 },
 "nbformat": 4,
 "nbformat_minor": 5
}
